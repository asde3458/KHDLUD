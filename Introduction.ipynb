{
 "cells": [
  {
   "cell_type": "markdown",
   "metadata": {},
   "source": [
    "# <div style=\" text-align: center; font-size: 30px; font-weight: bold\">DATA SCIENCE APPLICATION</div>\n",
    "\n",
    "# <div style=\" text-align: center; font-size: 30px; font-weight: bold\">FINAL PROJECT</div>"
   ]
  },
  {
   "cell_type": "markdown",
   "metadata": {},
   "source": [
    "## **Team information:**\n",
    "- 21120112 - Bùi Kim Phúc\n",
    "\n",
    "## **1. Topic**\n",
    "Analize the real estate data of Ho Chi Minh City and answer meaningful questions about it.\n",
    "\n",
    "The real estate market is always an interest and significant subject. Especially in Ho Chi Minh City, with the rapid urbanization, economic growth, go along with the cost of living, understanding the market become more crucial for people who are homebuyers, investors, real estate broker or just employees and students like me, who will get struggle to find a suitable bedsit for work and living in Ho Chi Minh City. So in this project, we aims to provide more informative insights of the real estate in Ho Chi Minh City. From that, we hope everyone can get a deeper unstanding about the real estate market, also for the inform decision-making processes while we have need to find a real estate for any purpose.\n",
    "\n",
    "In this project, we tend to analize two most common aspect of the real estate market: `Real estate for sale` and `Real estate for rent`, using the data science process to find out some interesting patterns, trends, and relationship between data.\n",
    "\n"
   ]
  },
  {
   "cell_type": "markdown",
   "metadata": {},
   "source": []
  }
 ],
 "metadata": {
  "language_info": {
   "name": "python"
  }
 },
 "nbformat": 4,
 "nbformat_minor": 2
}
