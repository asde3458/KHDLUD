{
 "cells": [
  {
   "cell_type": "markdown",
   "metadata": {},
   "source": [
    "# <div style=\" text-align: center; font-size: 50px; font-weight: bold\">Phase 01: Collecting data </div>"
   ]
  },
  {
   "cell_type": "markdown",
   "metadata": {},
   "source": [
    "## **Import necessary Python modules**"
   ]
  },
  {
   "cell_type": "code",
   "execution_count": 2,
   "metadata": {},
   "outputs": [],
   "source": [
    "import pandas as pd \n",
    "from bs4 import BeautifulSoup\n",
    "# !pip install selenium\n",
    "from selenium import webdriver\n",
    "# !pip install cloudscraper\n",
    "import cloudscraper\n",
    "import re"
   ]
  },
  {
   "cell_type": "markdown",
   "metadata": {},
   "source": [
    "## **Collect real estate for sale data:**\n",
    "In this section, we will collect the data of real estates that for sale from this website: https://batdongsan.com.vn/ . This webstite contain most of the advertisement of real estate (for rent or sale) in Viet Nam. In the scope of this project. We will focus on the data of real estate for sale, which are located in Ho Chi Minh City.\n",
    "\n",
    "Also, with the heavy density of the advertisement in this website. The data is collected is just mainly concentrate in just a period time (just in round end months of 2023). So for a overview, they cannot give us a full view about the current state of real estate in Ho Chi Minh City over times. Anyway, just don't get more concern to it and start our journey to collect data."
   ]
  },
  {
   "cell_type": "markdown",
   "metadata": {},
   "source": [
    "### **1. Some initials:**"
   ]
  },
  {
   "cell_type": "markdown",
   "metadata": {},
   "source": [
    "Look through the website, I can figure out some features that are common for most of real estate. So we can consider them like features that we should collect.\n",
    "\n",
    "Now, create an empty dataframe to store the data of the real estate. The dataframe will contain some features like: `Address`, `Type`, `Area`, `Price`, `Bedroom`, `Toilet`, `Floor`, `Furniture`, `Direction`, `Legal`, `Posting date`, `Expiry date`, `Ad type`, `Ad code`."
   ]
  },
  {
   "cell_type": "code",
   "execution_count": 3,
   "metadata": {},
   "outputs": [],
   "source": [
    "fields = [ 'Address', 'Type', 'Area', 'Price', 'Bedroom', 'Toilet', 'Floor', 'Furniture', 'Direction','Legal', 'Posting date', 'Expiry date', 'Ad type', 'Ad code']\n",
    "\n",
    "# Create a empty data frame with these fields\n",
    "df = pd.DataFrame(columns = fields)"
   ]
  },
  {
   "cell_type": "markdown",
   "metadata": {},
   "source": [
    "### **2. Collect the links to each real estate webpage:**\n",
    "\n",
    "The links are collected from multiple pages, with each page containing numerous links to apartments. These links have been stored in a file named `real_estate_for_sale_links.txt`.     \n",
    "\n",
    "With this task , we can use `Selenium` to access the website and crawl data from it. The link to the homepage and the file name are provided below:"
   ]
  },
  {
   "cell_type": "code",
   "execution_count": 4,
   "metadata": {},
   "outputs": [],
   "source": [
    "file_name = \"../Data/real_estate_for_sale_links.txt\"\n",
    "url = 'https://batdongsan.com.vn/nha-dat-ban-tp-hcm'"
   ]
  },
  {
   "cell_type": "markdown",
   "metadata": {},
   "source": [
    "We will move from the first page to the last page to collect the links, so the first thing should do is get the final page of the website."
   ]
  },
  {
   "cell_type": "code",
   "execution_count": 5,
   "metadata": {},
   "outputs": [],
   "source": [
    "def GetTotalPage(url):\n",
    "\n",
    "    # Create an instance of the driver\n",
    "    driver = webdriver.Chrome()\n",
    "    driver.get(url)\n",
    "    soup = BeautifulSoup(driver.page_source, 'html.parser')\n",
    "\n",
    "    # The parsing data process\n",
    "    unprocessed_num_page = soup.find(class_ = 're__pagination-group')\n",
    "    driver.quit()\n",
    "    # Regex to find all the current numpages in the screen.\n",
    "    regex = r'[^\\s]+'\n",
    "    matchs = re.findall(regex, unprocessed_num_page.text)\n",
    "    new_array = []\n",
    "    \n",
    "    for match in matchs:\n",
    "        new_array.append(int(match.replace('.', '')))\n",
    "\n",
    "    total_page = max(new_array)\n",
    "\n",
    "    return total_page"
   ]
  },
  {
   "cell_type": "markdown",
   "metadata": {},
   "source": [
    "Process the result to get the last page."
   ]
  },
  {
   "cell_type": "code",
   "execution_count": 6,
   "metadata": {},
   "outputs": [],
   "source": [
    "# Get num of total pages in the website.\n",
    "total_page = GetTotalPage(url)"
   ]
  },
  {
   "cell_type": "markdown",
   "metadata": {},
   "source": [
    "Function to collect the links to each real estate:"
   ]
  },
  {
   "cell_type": "code",
   "execution_count": 7,
   "metadata": {},
   "outputs": [],
   "source": [
    "def CollectRealEstateForSaleLink (url, page):\n",
    "    with open (file_name, 'w') as file:\n",
    "        # Acess to all page\n",
    "        for i in range(1, page + 1):\n",
    "            driver = webdriver.Chrome()\n",
    "            driver.get(url+'/p'+ str(i))\n",
    "            soup = soup = BeautifulSoup(driver.page_source, 'html.parser')\n",
    "            apartment_list = soup.find_all(\"a\", class_= \"js__product-link-for-product-id\")\n",
    "\n",
    "            # Add all links to the file\n",
    "            for apartment in apartment_list:\n",
    "                link = 'https://batdongsan.com.vn/'+ apartment['href']\n",
    "                file.write(link)\n",
    "                file.write('\\n')\n",
    "\n",
    "            driver.quit()"
   ]
  },
  {
   "cell_type": "code",
   "execution_count": 8,
   "metadata": {},
   "outputs": [
    {
     "ename": "KeyboardInterrupt",
     "evalue": "",
     "output_type": "error",
     "traceback": [
      "\u001b[1;31m---------------------------------------------------------------------------\u001b[0m",
      "\u001b[1;31mKeyboardInterrupt\u001b[0m                         Traceback (most recent call last)",
      "Cell \u001b[1;32mIn[8], line 1\u001b[0m\n\u001b[1;32m----> 1\u001b[0m CollectRealEstateForSaleLink (url, total_page)\n",
      "Cell \u001b[1;32mIn[7], line 6\u001b[0m, in \u001b[0;36mCollectRealEstateForSaleLink\u001b[1;34m(url, page)\u001b[0m\n\u001b[0;32m      4\u001b[0m \u001b[38;5;28;01mfor\u001b[39;00m i \u001b[38;5;129;01min\u001b[39;00m \u001b[38;5;28mrange\u001b[39m(\u001b[38;5;241m1\u001b[39m, page \u001b[38;5;241m+\u001b[39m \u001b[38;5;241m1\u001b[39m):\n\u001b[0;32m      5\u001b[0m     driver \u001b[38;5;241m=\u001b[39m webdriver\u001b[38;5;241m.\u001b[39mChrome()\n\u001b[1;32m----> 6\u001b[0m     driver\u001b[38;5;241m.\u001b[39mget(url\u001b[38;5;241m+\u001b[39m\u001b[38;5;124m'\u001b[39m\u001b[38;5;124m/p\u001b[39m\u001b[38;5;124m'\u001b[39m\u001b[38;5;241m+\u001b[39m \u001b[38;5;28mstr\u001b[39m(i))\n\u001b[0;32m      7\u001b[0m     soup \u001b[38;5;241m=\u001b[39m soup \u001b[38;5;241m=\u001b[39m BeautifulSoup(driver\u001b[38;5;241m.\u001b[39mpage_source, \u001b[38;5;124m'\u001b[39m\u001b[38;5;124mhtml.parser\u001b[39m\u001b[38;5;124m'\u001b[39m)\n\u001b[0;32m      8\u001b[0m     apartment_list \u001b[38;5;241m=\u001b[39m soup\u001b[38;5;241m.\u001b[39mfind_all(\u001b[38;5;124m\"\u001b[39m\u001b[38;5;124ma\u001b[39m\u001b[38;5;124m\"\u001b[39m, class_\u001b[38;5;241m=\u001b[39m \u001b[38;5;124m\"\u001b[39m\u001b[38;5;124mjs__product-link-for-product-id\u001b[39m\u001b[38;5;124m\"\u001b[39m)\n",
      "File \u001b[1;32mc:\\Users\\bkphu\\anaconda3\\Lib\\site-packages\\selenium\\webdriver\\remote\\webdriver.py:454\u001b[0m, in \u001b[0;36mWebDriver.get\u001b[1;34m(self, url)\u001b[0m\n\u001b[0;32m    436\u001b[0m \u001b[38;5;28;01mdef\u001b[39;00m \u001b[38;5;21mget\u001b[39m(\u001b[38;5;28mself\u001b[39m, url: \u001b[38;5;28mstr\u001b[39m) \u001b[38;5;241m-\u001b[39m\u001b[38;5;241m>\u001b[39m \u001b[38;5;28;01mNone\u001b[39;00m:\n\u001b[0;32m    437\u001b[0m \u001b[38;5;250m    \u001b[39m\u001b[38;5;124;03m\"\"\"Navigate the browser to the specified URL in the current window or\u001b[39;00m\n\u001b[0;32m    438\u001b[0m \u001b[38;5;124;03m    tab.\u001b[39;00m\n\u001b[0;32m    439\u001b[0m \n\u001b[1;32m   (...)\u001b[0m\n\u001b[0;32m    452\u001b[0m \u001b[38;5;124;03m    >>> driver.get(\"https://example.com\")\u001b[39;00m\n\u001b[0;32m    453\u001b[0m \u001b[38;5;124;03m    \"\"\"\u001b[39;00m\n\u001b[1;32m--> 454\u001b[0m     \u001b[38;5;28mself\u001b[39m\u001b[38;5;241m.\u001b[39mexecute(Command\u001b[38;5;241m.\u001b[39mGET, {\u001b[38;5;124m\"\u001b[39m\u001b[38;5;124murl\u001b[39m\u001b[38;5;124m\"\u001b[39m: url})\n",
      "File \u001b[1;32mc:\\Users\\bkphu\\anaconda3\\Lib\\site-packages\\selenium\\webdriver\\remote\\webdriver.py:427\u001b[0m, in \u001b[0;36mWebDriver.execute\u001b[1;34m(self, driver_command, params)\u001b[0m\n\u001b[0;32m    424\u001b[0m     \u001b[38;5;28;01melif\u001b[39;00m \u001b[38;5;124m\"\u001b[39m\u001b[38;5;124msessionId\u001b[39m\u001b[38;5;124m\"\u001b[39m \u001b[38;5;129;01mnot\u001b[39;00m \u001b[38;5;129;01min\u001b[39;00m params:\n\u001b[0;32m    425\u001b[0m         params[\u001b[38;5;124m\"\u001b[39m\u001b[38;5;124msessionId\u001b[39m\u001b[38;5;124m\"\u001b[39m] \u001b[38;5;241m=\u001b[39m \u001b[38;5;28mself\u001b[39m\u001b[38;5;241m.\u001b[39msession_id\n\u001b[1;32m--> 427\u001b[0m response \u001b[38;5;241m=\u001b[39m \u001b[38;5;28mself\u001b[39m\u001b[38;5;241m.\u001b[39mcommand_executor\u001b[38;5;241m.\u001b[39mexecute(driver_command, params)\n\u001b[0;32m    428\u001b[0m \u001b[38;5;28;01mif\u001b[39;00m response:\n\u001b[0;32m    429\u001b[0m     \u001b[38;5;28mself\u001b[39m\u001b[38;5;241m.\u001b[39merror_handler\u001b[38;5;241m.\u001b[39mcheck_response(response)\n",
      "File \u001b[1;32mc:\\Users\\bkphu\\anaconda3\\Lib\\site-packages\\selenium\\webdriver\\remote\\remote_connection.py:404\u001b[0m, in \u001b[0;36mRemoteConnection.execute\u001b[1;34m(self, command, params)\u001b[0m\n\u001b[0;32m    402\u001b[0m trimmed \u001b[38;5;241m=\u001b[39m \u001b[38;5;28mself\u001b[39m\u001b[38;5;241m.\u001b[39m_trim_large_entries(params)\n\u001b[0;32m    403\u001b[0m LOGGER\u001b[38;5;241m.\u001b[39mdebug(\u001b[38;5;124m\"\u001b[39m\u001b[38;5;132;01m%s\u001b[39;00m\u001b[38;5;124m \u001b[39m\u001b[38;5;132;01m%s\u001b[39;00m\u001b[38;5;124m \u001b[39m\u001b[38;5;132;01m%s\u001b[39;00m\u001b[38;5;124m\"\u001b[39m, command_info[\u001b[38;5;241m0\u001b[39m], url, \u001b[38;5;28mstr\u001b[39m(trimmed))\n\u001b[1;32m--> 404\u001b[0m \u001b[38;5;28;01mreturn\u001b[39;00m \u001b[38;5;28mself\u001b[39m\u001b[38;5;241m.\u001b[39m_request(command_info[\u001b[38;5;241m0\u001b[39m], url, body\u001b[38;5;241m=\u001b[39mdata)\n",
      "File \u001b[1;32mc:\\Users\\bkphu\\anaconda3\\Lib\\site-packages\\selenium\\webdriver\\remote\\remote_connection.py:428\u001b[0m, in \u001b[0;36mRemoteConnection._request\u001b[1;34m(self, method, url, body)\u001b[0m\n\u001b[0;32m    425\u001b[0m     body \u001b[38;5;241m=\u001b[39m \u001b[38;5;28;01mNone\u001b[39;00m\n\u001b[0;32m    427\u001b[0m \u001b[38;5;28;01mif\u001b[39;00m \u001b[38;5;28mself\u001b[39m\u001b[38;5;241m.\u001b[39m_client_config\u001b[38;5;241m.\u001b[39mkeep_alive:\n\u001b[1;32m--> 428\u001b[0m     response \u001b[38;5;241m=\u001b[39m \u001b[38;5;28mself\u001b[39m\u001b[38;5;241m.\u001b[39m_conn\u001b[38;5;241m.\u001b[39mrequest(method, url, body\u001b[38;5;241m=\u001b[39mbody, headers\u001b[38;5;241m=\u001b[39mheaders, timeout\u001b[38;5;241m=\u001b[39m\u001b[38;5;28mself\u001b[39m\u001b[38;5;241m.\u001b[39m_client_config\u001b[38;5;241m.\u001b[39mtimeout)\n\u001b[0;32m    429\u001b[0m     statuscode \u001b[38;5;241m=\u001b[39m response\u001b[38;5;241m.\u001b[39mstatus\n\u001b[0;32m    430\u001b[0m \u001b[38;5;28;01melse\u001b[39;00m:\n",
      "File \u001b[1;32mc:\\Users\\bkphu\\anaconda3\\Lib\\site-packages\\urllib3\\_request_methods.py:118\u001b[0m, in \u001b[0;36mRequestMethods.request\u001b[1;34m(self, method, url, body, fields, headers, json, **urlopen_kw)\u001b[0m\n\u001b[0;32m    110\u001b[0m     \u001b[38;5;28;01mreturn\u001b[39;00m \u001b[38;5;28mself\u001b[39m\u001b[38;5;241m.\u001b[39mrequest_encode_url(\n\u001b[0;32m    111\u001b[0m         method,\n\u001b[0;32m    112\u001b[0m         url,\n\u001b[1;32m   (...)\u001b[0m\n\u001b[0;32m    115\u001b[0m         \u001b[38;5;241m*\u001b[39m\u001b[38;5;241m*\u001b[39murlopen_kw,\n\u001b[0;32m    116\u001b[0m     )\n\u001b[0;32m    117\u001b[0m \u001b[38;5;28;01melse\u001b[39;00m:\n\u001b[1;32m--> 118\u001b[0m     \u001b[38;5;28;01mreturn\u001b[39;00m \u001b[38;5;28mself\u001b[39m\u001b[38;5;241m.\u001b[39mrequest_encode_body(\n\u001b[0;32m    119\u001b[0m         method, url, fields\u001b[38;5;241m=\u001b[39mfields, headers\u001b[38;5;241m=\u001b[39mheaders, \u001b[38;5;241m*\u001b[39m\u001b[38;5;241m*\u001b[39murlopen_kw\n\u001b[0;32m    120\u001b[0m     )\n",
      "File \u001b[1;32mc:\\Users\\bkphu\\anaconda3\\Lib\\site-packages\\urllib3\\_request_methods.py:217\u001b[0m, in \u001b[0;36mRequestMethods.request_encode_body\u001b[1;34m(self, method, url, fields, headers, encode_multipart, multipart_boundary, **urlopen_kw)\u001b[0m\n\u001b[0;32m    213\u001b[0m     extra_kw[\u001b[38;5;124m\"\u001b[39m\u001b[38;5;124mheaders\u001b[39m\u001b[38;5;124m\"\u001b[39m]\u001b[38;5;241m.\u001b[39msetdefault(\u001b[38;5;124m\"\u001b[39m\u001b[38;5;124mContent-Type\u001b[39m\u001b[38;5;124m\"\u001b[39m, content_type)\n\u001b[0;32m    215\u001b[0m extra_kw\u001b[38;5;241m.\u001b[39mupdate(urlopen_kw)\n\u001b[1;32m--> 217\u001b[0m \u001b[38;5;28;01mreturn\u001b[39;00m \u001b[38;5;28mself\u001b[39m\u001b[38;5;241m.\u001b[39murlopen(method, url, \u001b[38;5;241m*\u001b[39m\u001b[38;5;241m*\u001b[39mextra_kw)\n",
      "File \u001b[1;32mc:\\Users\\bkphu\\anaconda3\\Lib\\site-packages\\urllib3\\poolmanager.py:443\u001b[0m, in \u001b[0;36mPoolManager.urlopen\u001b[1;34m(self, method, url, redirect, **kw)\u001b[0m\n\u001b[0;32m    441\u001b[0m     response \u001b[38;5;241m=\u001b[39m conn\u001b[38;5;241m.\u001b[39murlopen(method, url, \u001b[38;5;241m*\u001b[39m\u001b[38;5;241m*\u001b[39mkw)\n\u001b[0;32m    442\u001b[0m \u001b[38;5;28;01melse\u001b[39;00m:\n\u001b[1;32m--> 443\u001b[0m     response \u001b[38;5;241m=\u001b[39m conn\u001b[38;5;241m.\u001b[39murlopen(method, u\u001b[38;5;241m.\u001b[39mrequest_uri, \u001b[38;5;241m*\u001b[39m\u001b[38;5;241m*\u001b[39mkw)\n\u001b[0;32m    445\u001b[0m redirect_location \u001b[38;5;241m=\u001b[39m redirect \u001b[38;5;129;01mand\u001b[39;00m response\u001b[38;5;241m.\u001b[39mget_redirect_location()\n\u001b[0;32m    446\u001b[0m \u001b[38;5;28;01mif\u001b[39;00m \u001b[38;5;129;01mnot\u001b[39;00m redirect_location:\n",
      "File \u001b[1;32mc:\\Users\\bkphu\\anaconda3\\Lib\\site-packages\\urllib3\\connectionpool.py:791\u001b[0m, in \u001b[0;36mHTTPConnectionPool.urlopen\u001b[1;34m(self, method, url, body, headers, retries, redirect, assert_same_host, timeout, pool_timeout, release_conn, chunked, body_pos, preload_content, decode_content, **response_kw)\u001b[0m\n\u001b[0;32m    788\u001b[0m response_conn \u001b[38;5;241m=\u001b[39m conn \u001b[38;5;28;01mif\u001b[39;00m \u001b[38;5;129;01mnot\u001b[39;00m release_conn \u001b[38;5;28;01melse\u001b[39;00m \u001b[38;5;28;01mNone\u001b[39;00m\n\u001b[0;32m    790\u001b[0m \u001b[38;5;66;03m# Make the request on the HTTPConnection object\u001b[39;00m\n\u001b[1;32m--> 791\u001b[0m response \u001b[38;5;241m=\u001b[39m \u001b[38;5;28mself\u001b[39m\u001b[38;5;241m.\u001b[39m_make_request(\n\u001b[0;32m    792\u001b[0m     conn,\n\u001b[0;32m    793\u001b[0m     method,\n\u001b[0;32m    794\u001b[0m     url,\n\u001b[0;32m    795\u001b[0m     timeout\u001b[38;5;241m=\u001b[39mtimeout_obj,\n\u001b[0;32m    796\u001b[0m     body\u001b[38;5;241m=\u001b[39mbody,\n\u001b[0;32m    797\u001b[0m     headers\u001b[38;5;241m=\u001b[39mheaders,\n\u001b[0;32m    798\u001b[0m     chunked\u001b[38;5;241m=\u001b[39mchunked,\n\u001b[0;32m    799\u001b[0m     retries\u001b[38;5;241m=\u001b[39mretries,\n\u001b[0;32m    800\u001b[0m     response_conn\u001b[38;5;241m=\u001b[39mresponse_conn,\n\u001b[0;32m    801\u001b[0m     preload_content\u001b[38;5;241m=\u001b[39mpreload_content,\n\u001b[0;32m    802\u001b[0m     decode_content\u001b[38;5;241m=\u001b[39mdecode_content,\n\u001b[0;32m    803\u001b[0m     \u001b[38;5;241m*\u001b[39m\u001b[38;5;241m*\u001b[39mresponse_kw,\n\u001b[0;32m    804\u001b[0m )\n\u001b[0;32m    806\u001b[0m \u001b[38;5;66;03m# Everything went great!\u001b[39;00m\n\u001b[0;32m    807\u001b[0m clean_exit \u001b[38;5;241m=\u001b[39m \u001b[38;5;28;01mTrue\u001b[39;00m\n",
      "File \u001b[1;32mc:\\Users\\bkphu\\anaconda3\\Lib\\site-packages\\urllib3\\connectionpool.py:537\u001b[0m, in \u001b[0;36mHTTPConnectionPool._make_request\u001b[1;34m(self, conn, method, url, body, headers, retries, timeout, chunked, response_conn, preload_content, decode_content, enforce_content_length)\u001b[0m\n\u001b[0;32m    535\u001b[0m \u001b[38;5;66;03m# Receive the response from the server\u001b[39;00m\n\u001b[0;32m    536\u001b[0m \u001b[38;5;28;01mtry\u001b[39;00m:\n\u001b[1;32m--> 537\u001b[0m     response \u001b[38;5;241m=\u001b[39m conn\u001b[38;5;241m.\u001b[39mgetresponse()\n\u001b[0;32m    538\u001b[0m \u001b[38;5;28;01mexcept\u001b[39;00m (BaseSSLError, \u001b[38;5;167;01mOSError\u001b[39;00m) \u001b[38;5;28;01mas\u001b[39;00m e:\n\u001b[0;32m    539\u001b[0m     \u001b[38;5;28mself\u001b[39m\u001b[38;5;241m.\u001b[39m_raise_timeout(err\u001b[38;5;241m=\u001b[39me, url\u001b[38;5;241m=\u001b[39murl, timeout_value\u001b[38;5;241m=\u001b[39mread_timeout)\n",
      "File \u001b[1;32mc:\\Users\\bkphu\\anaconda3\\Lib\\site-packages\\urllib3\\connection.py:461\u001b[0m, in \u001b[0;36mHTTPConnection.getresponse\u001b[1;34m(self)\u001b[0m\n\u001b[0;32m    458\u001b[0m \u001b[38;5;28;01mfrom\u001b[39;00m \u001b[38;5;21;01m.\u001b[39;00m\u001b[38;5;21;01mresponse\u001b[39;00m \u001b[38;5;28;01mimport\u001b[39;00m HTTPResponse\n\u001b[0;32m    460\u001b[0m \u001b[38;5;66;03m# Get the response from http.client.HTTPConnection\u001b[39;00m\n\u001b[1;32m--> 461\u001b[0m httplib_response \u001b[38;5;241m=\u001b[39m \u001b[38;5;28msuper\u001b[39m()\u001b[38;5;241m.\u001b[39mgetresponse()\n\u001b[0;32m    463\u001b[0m \u001b[38;5;28;01mtry\u001b[39;00m:\n\u001b[0;32m    464\u001b[0m     assert_header_parsing(httplib_response\u001b[38;5;241m.\u001b[39mmsg)\n",
      "File \u001b[1;32mc:\\Users\\bkphu\\anaconda3\\Lib\\http\\client.py:1386\u001b[0m, in \u001b[0;36mHTTPConnection.getresponse\u001b[1;34m(self)\u001b[0m\n\u001b[0;32m   1384\u001b[0m \u001b[38;5;28;01mtry\u001b[39;00m:\n\u001b[0;32m   1385\u001b[0m     \u001b[38;5;28;01mtry\u001b[39;00m:\n\u001b[1;32m-> 1386\u001b[0m         response\u001b[38;5;241m.\u001b[39mbegin()\n\u001b[0;32m   1387\u001b[0m     \u001b[38;5;28;01mexcept\u001b[39;00m \u001b[38;5;167;01mConnectionError\u001b[39;00m:\n\u001b[0;32m   1388\u001b[0m         \u001b[38;5;28mself\u001b[39m\u001b[38;5;241m.\u001b[39mclose()\n",
      "File \u001b[1;32mc:\\Users\\bkphu\\anaconda3\\Lib\\http\\client.py:325\u001b[0m, in \u001b[0;36mHTTPResponse.begin\u001b[1;34m(self)\u001b[0m\n\u001b[0;32m    323\u001b[0m \u001b[38;5;66;03m# read until we get a non-100 response\u001b[39;00m\n\u001b[0;32m    324\u001b[0m \u001b[38;5;28;01mwhile\u001b[39;00m \u001b[38;5;28;01mTrue\u001b[39;00m:\n\u001b[1;32m--> 325\u001b[0m     version, status, reason \u001b[38;5;241m=\u001b[39m \u001b[38;5;28mself\u001b[39m\u001b[38;5;241m.\u001b[39m_read_status()\n\u001b[0;32m    326\u001b[0m     \u001b[38;5;28;01mif\u001b[39;00m status \u001b[38;5;241m!=\u001b[39m CONTINUE:\n\u001b[0;32m    327\u001b[0m         \u001b[38;5;28;01mbreak\u001b[39;00m\n",
      "File \u001b[1;32mc:\\Users\\bkphu\\anaconda3\\Lib\\http\\client.py:286\u001b[0m, in \u001b[0;36mHTTPResponse._read_status\u001b[1;34m(self)\u001b[0m\n\u001b[0;32m    285\u001b[0m \u001b[38;5;28;01mdef\u001b[39;00m \u001b[38;5;21m_read_status\u001b[39m(\u001b[38;5;28mself\u001b[39m):\n\u001b[1;32m--> 286\u001b[0m     line \u001b[38;5;241m=\u001b[39m \u001b[38;5;28mstr\u001b[39m(\u001b[38;5;28mself\u001b[39m\u001b[38;5;241m.\u001b[39mfp\u001b[38;5;241m.\u001b[39mreadline(_MAXLINE \u001b[38;5;241m+\u001b[39m \u001b[38;5;241m1\u001b[39m), \u001b[38;5;124m\"\u001b[39m\u001b[38;5;124miso-8859-1\u001b[39m\u001b[38;5;124m\"\u001b[39m)\n\u001b[0;32m    287\u001b[0m     \u001b[38;5;28;01mif\u001b[39;00m \u001b[38;5;28mlen\u001b[39m(line) \u001b[38;5;241m>\u001b[39m _MAXLINE:\n\u001b[0;32m    288\u001b[0m         \u001b[38;5;28;01mraise\u001b[39;00m LineTooLong(\u001b[38;5;124m\"\u001b[39m\u001b[38;5;124mstatus line\u001b[39m\u001b[38;5;124m\"\u001b[39m)\n",
      "File \u001b[1;32mc:\\Users\\bkphu\\anaconda3\\Lib\\socket.py:706\u001b[0m, in \u001b[0;36mSocketIO.readinto\u001b[1;34m(self, b)\u001b[0m\n\u001b[0;32m    704\u001b[0m \u001b[38;5;28;01mwhile\u001b[39;00m \u001b[38;5;28;01mTrue\u001b[39;00m:\n\u001b[0;32m    705\u001b[0m     \u001b[38;5;28;01mtry\u001b[39;00m:\n\u001b[1;32m--> 706\u001b[0m         \u001b[38;5;28;01mreturn\u001b[39;00m \u001b[38;5;28mself\u001b[39m\u001b[38;5;241m.\u001b[39m_sock\u001b[38;5;241m.\u001b[39mrecv_into(b)\n\u001b[0;32m    707\u001b[0m     \u001b[38;5;28;01mexcept\u001b[39;00m timeout:\n\u001b[0;32m    708\u001b[0m         \u001b[38;5;28mself\u001b[39m\u001b[38;5;241m.\u001b[39m_timeout_occurred \u001b[38;5;241m=\u001b[39m \u001b[38;5;28;01mTrue\u001b[39;00m\n",
      "\u001b[1;31mKeyboardInterrupt\u001b[0m: "
     ]
    }
   ],
   "source": [
    "CollectRealEstateForSaleLink (url, total_page)"
   ]
  },
  {
   "cell_type": "markdown",
   "metadata": {},
   "source": [
    "Up to now, we have collected all the links to each real estate website and store them into a text file. "
   ]
  },
  {
   "cell_type": "markdown",
   "metadata": {},
   "source": [
    "Read the `real_estate_for_sale_links.txt` file and store all the links to a lists"
   ]
  },
  {
   "cell_type": "code",
   "execution_count": 11,
   "metadata": {},
   "outputs": [],
   "source": [
    "urls = []\n",
    "with open(file_name, 'r') as file:\n",
    "    for line in file.readlines():\n",
    "            urls.append(line)"
   ]
  },
  {
   "cell_type": "code",
   "execution_count": 12,
   "metadata": {},
   "outputs": [
    {
     "data": {
      "text/plain": [
       "65358"
      ]
     },
     "execution_count": 12,
     "metadata": {},
     "output_type": "execute_result"
    }
   ],
   "source": [
    "len(urls)"
   ]
  },
  {
   "cell_type": "markdown",
   "metadata": {},
   "source": [
    "### **3. Access to each link and colllect the data:**"
   ]
  },
  {
   "cell_type": "markdown",
   "metadata": {},
   "source": [
    "The current language of the website is Vietnamese, and as just for some consitent, I try to convert them all to Englist by the dictionary below:"
   ]
  },
  {
   "cell_type": "code",
   "execution_count": 10,
   "metadata": {},
   "outputs": [],
   "source": [
    "key_map = {\n",
    "    'Địa chỉ:' : 'Address',\n",
    "    'Diện tích': 'Area',\n",
    "    'Mức giá': 'Price',\n",
    "    'Hướng nhà': 'Direction',\n",
    "    'Số tầng': 'Floor',\n",
    "    'Số phòng ngủ': 'Bedroom',\n",
    "    'Số toilet': 'Toilet',\n",
    "    'Pháp lý': 'Legal',\n",
    "    'Nội thất': 'Furniture',\n",
    "    'Ngày đăng': 'Posting date',\n",
    "    'Ngày hết hạn': 'Expiry date',\n",
    "    'Loại tin': 'Ad type',\n",
    "    'Mã tin': 'Ad code'\n",
    "}"
   ]
  },
  {
   "cell_type": "markdown",
   "metadata": {},
   "source": [
    "Also, look the through the website, I see that there are so many different types of real estates. This will be a important features for out future analysis. The issue here is the current data of each real estate that not contain its type, and the type is hide by the type code. Fortunaly, I have found all of them and store in the dictionary bellow:"
   ]
  },
  {
   "cell_type": "code",
   "execution_count": 19,
   "metadata": {},
   "outputs": [],
   "source": [
    "sale_type = ['Căn hộ chung cư', 'Nhà riêng', 'Nhà biệt thự, liền kề', 'Nhà mặt phố', 'Shophouse nhà phố thương mại', 'Đất nền dự án', 'Đất bán', 'Trang trại, khu nghỉ dưỡng', 'Kho, nhà xưởng','Bất động sản khác','Condotel']\n",
    "sale_type_dict = {\n",
    "    '324': sale_type[0], # Chung cư\n",
    "    '41': sale_type[1], # Nhà riêng\n",
    "    '325': sale_type[2], # biệt thự\n",
    "    '163': sale_type[3], # Nhà mặt phố\n",
    "    '575': sale_type[4], # Shophouse\n",
    "    '40': sale_type[5], # Đất nền\n",
    "    '283': sale_type[6], # Bán đất\n",
    "    '44': sale_type[7], # Trang trại\n",
    "    '45': sale_type[8], # kho\n",
    "    '48': sale_type[9], # Khác\n",
    "    '562': sale_type[10], # Khác\n",
    "}\n"
   ]
  },
  {
   "cell_type": "markdown",
   "metadata": {},
   "source": [
    "Now, let's define some necessary function of scrapping process:\n",
    "\n",
    "- Function to extract the features from a link:"
   ]
  },
  {
   "cell_type": "code",
   "execution_count": 12,
   "metadata": {},
   "outputs": [],
   "source": [
    "def ExtractDataFromLinkWithSelenium(url):\n",
    "    driver = webdriver.Chrome()\n",
    "    try:\n",
    "        driver.get(url)\n",
    "        soup = BeautifulSoup(driver.page_source, 'html.parser')\n",
    "\n",
    "        #Create a dicitonary to store the feature\n",
    "        features = {}\n",
    "\n",
    "        # get the address\n",
    "        address = soup.find(class_ = \"re__pr-short-description js__pr-address\")\n",
    "\n",
    "        # Get the type\n",
    "        regex = r'[\\d]+'\n",
    "        type = soup.find_all('script', type= 'text/javascript')\n",
    "        for item in type:\n",
    "            if (item.text):\n",
    "                found = re.findall(regex, item.text)\n",
    "                break;\n",
    "        # If the address cannot be found, mean the data is invalide, ignore them.\n",
    "        if address == None:\n",
    "            return features\n",
    "        else:\n",
    "            features['Address'] = address.text\n",
    "            features['Type'] = sale_type_dict[found[3]]\n",
    "\n",
    "        # Get all the features about the attribute of each real estate\n",
    "        feature_items = soup.find_all('div', class_ = 're__pr-specs-content-item')\n",
    "        for item in feature_items:\n",
    "            title = item.find(class_ = 're__pr-specs-content-item-title').text.strip()\n",
    "            value = item.find(class_ = 're__pr-specs-content-item-value').text.strip()\n",
    "            features[title] = value\n",
    "\n",
    "        # Get the features about the posting date, expiry date and the ad code\n",
    "        date_items = soup.find_all( 'div', class_ = \"re__pr-short-info-item js__pr-config-item\")\n",
    "        for item in date_items:\n",
    "            title = item.find('span', class_ = 'title').text.strip()\n",
    "            value = item.find('span',class_ = 'value').text.strip()\n",
    "            features[title] = value\n",
    "    \n",
    "        # Convert all the keys to the defined keys base on the dictionary.\n",
    "        keys_to_change = list(features.keys())\n",
    "        for key in keys_to_change:\n",
    "            if key in key_map:\n",
    "                features[key_map[key]] = features[key]\n",
    "    finally:\n",
    "        driver.quit()\n",
    "\n",
    "    return features"
   ]
  },
  {
   "cell_type": "markdown",
   "metadata": {},
   "source": [
    "Iterate over the urls list and extract the data, which is stored in the previously defined DataFrame"
   ]
  },
  {
   "cell_type": "code",
   "execution_count": 20,
   "metadata": {},
   "outputs": [],
   "source": [
    "for url in urls[0:2]:\n",
    "        features = ExtractDataFromLinkWithSelenium(url)\n",
    "        if features:\n",
    "                new_row = pd.Series(features, index = fields)\n",
    "                new_row_df = pd.DataFrame([new_row])\n",
    "                df = pd.concat([df, new_row_df], ignore_index = True)\n",
    "                new_row_df.to_csv('../Data/real_estate_for_sale.csv', mode='a', header=False, index=False, encoding='utf-8')\n",
    "        else:\n",
    "                print (\"Error\")\n"
   ]
  },
  {
   "cell_type": "code",
   "execution_count": 18,
   "metadata": {},
   "outputs": [
    {
     "name": "stdout",
     "output_type": "stream",
     "text": [
      "https://batdongsan.com.vn//ban-can-ho-chung-cu-phuong-long-binh-3-prj-the-beverly-solari-vinhomes-grand-park/ban-gap-3pn-vinmes-q9-view-song-tang-mat-gia-2-7-ty-pr42818062\n",
      "\n"
     ]
    }
   ],
   "source": [
    "print(urls[1])"
   ]
  },
  {
   "cell_type": "markdown",
   "metadata": {},
   "source": [
    "### **4. Store the collected data to csv file:**\n",
    "\n",
    "Finally, just store the data into a `csv` file and finish the process."
   ]
  },
  {
   "cell_type": "code",
   "execution_count": null,
   "metadata": {},
   "outputs": [
    {
     "ename": "NameError",
     "evalue": "name 'df' is not defined",
     "output_type": "error",
     "traceback": [
      "\u001b[1;31m---------------------------------------------------------------------------\u001b[0m",
      "\u001b[1;31mNameError\u001b[0m                                 Traceback (most recent call last)",
      "Cell \u001b[1;32mIn[3], line 1\u001b[0m\n\u001b[1;32m----> 1\u001b[0m df\u001b[38;5;241m.\u001b[39mto_csv(\u001b[38;5;124m'\u001b[39m\u001b[38;5;124m../Data/real_estate_for_sale.csv\u001b[39m\u001b[38;5;124m'\u001b[39m, index \u001b[38;5;241m=\u001b[39m \u001b[38;5;28;01mFalse\u001b[39;00m)\n",
      "\u001b[1;31mNameError\u001b[0m: name 'df' is not defined"
     ]
    }
   ],
   "source": [
    "df.to_csv('../Data/real_estate_for_sale.csv', index = False)"
   ]
  },
  {
   "cell_type": "code",
   "execution_count": 15,
   "metadata": {},
   "outputs": [
    {
     "data": {
      "text/html": [
       "<div>\n",
       "<style scoped>\n",
       "    .dataframe tbody tr th:only-of-type {\n",
       "        vertical-align: middle;\n",
       "    }\n",
       "\n",
       "    .dataframe tbody tr th {\n",
       "        vertical-align: top;\n",
       "    }\n",
       "\n",
       "    .dataframe thead th {\n",
       "        text-align: right;\n",
       "    }\n",
       "</style>\n",
       "<table border=\"1\" class=\"dataframe\">\n",
       "  <thead>\n",
       "    <tr style=\"text-align: right;\">\n",
       "      <th></th>\n",
       "      <th>Address</th>\n",
       "      <th>Type</th>\n",
       "      <th>Area</th>\n",
       "      <th>Price</th>\n",
       "      <th>Bedroom</th>\n",
       "      <th>Toilet</th>\n",
       "      <th>Floor</th>\n",
       "      <th>Furniture</th>\n",
       "      <th>Direction</th>\n",
       "      <th>Legal</th>\n",
       "      <th>Posting date</th>\n",
       "      <th>Expiry date</th>\n",
       "      <th>Ad type</th>\n",
       "      <th>Ad code</th>\n",
       "    </tr>\n",
       "  </thead>\n",
       "  <tbody>\n",
       "    <tr>\n",
       "      <th>0</th>\n",
       "      <td>Dự án Zenity, Đường Võ Văn Kiệt, Phường Cầu Kh...</td>\n",
       "      <td>Căn hộ chung cư</td>\n",
       "      <td>161,08 m²</td>\n",
       "      <td>17,98 tỷ</td>\n",
       "      <td>3 phòng</td>\n",
       "      <td>3 phòng</td>\n",
       "      <td>NaN</td>\n",
       "      <td>Đầy đủ</td>\n",
       "      <td>Đông - Bắc</td>\n",
       "      <td>Sổ đỏ/ Sổ hồng</td>\n",
       "      <td>06/12/2023</td>\n",
       "      <td>13/12/2023</td>\n",
       "      <td>Tin VIP Kim Cương</td>\n",
       "      <td>38720367</td>\n",
       "    </tr>\n",
       "    <tr>\n",
       "      <th>1</th>\n",
       "      <td>Dự án Zenity, Đường Võ Văn Kiệt, Phường Cầu Kh...</td>\n",
       "      <td>Căn hộ chung cư</td>\n",
       "      <td>116 m²</td>\n",
       "      <td>9,8 tỷ</td>\n",
       "      <td>3 phòng</td>\n",
       "      <td>2 phòng</td>\n",
       "      <td>NaN</td>\n",
       "      <td>Đầy đủ</td>\n",
       "      <td>Đông - Bắc</td>\n",
       "      <td>Sổ đỏ/ Sổ hồng</td>\n",
       "      <td>03/12/2023</td>\n",
       "      <td>10/12/2023</td>\n",
       "      <td>Tin thường</td>\n",
       "      <td>38693652</td>\n",
       "    </tr>\n",
       "    <tr>\n",
       "      <th>2</th>\n",
       "      <td>Dự án Zenity, Đường Võ Văn Kiệt, Phường Cầu Kh...</td>\n",
       "      <td>Căn hộ chung cư</td>\n",
       "      <td>77 m²</td>\n",
       "      <td>6 tỷ</td>\n",
       "      <td>2 phòng</td>\n",
       "      <td>2 phòng</td>\n",
       "      <td>NaN</td>\n",
       "      <td>Đầy đủ.</td>\n",
       "      <td>Đông - Nam</td>\n",
       "      <td>Sổ đỏ/ Sổ hồng</td>\n",
       "      <td>01/12/2023</td>\n",
       "      <td>11/12/2023</td>\n",
       "      <td>Tin VIP Kim Cương</td>\n",
       "      <td>38481731</td>\n",
       "    </tr>\n",
       "    <tr>\n",
       "      <th>3</th>\n",
       "      <td>Dự án Lumiere Riverside, Đường Xa Lộ Hà Nội, P...</td>\n",
       "      <td>Căn hộ chung cư</td>\n",
       "      <td>76 m²</td>\n",
       "      <td>6,2 tỷ</td>\n",
       "      <td>2 phòng</td>\n",
       "      <td>2 phòng</td>\n",
       "      <td>NaN</td>\n",
       "      <td>Đầy đủ</td>\n",
       "      <td>NaN</td>\n",
       "      <td>Hợp đồng mua bán</td>\n",
       "      <td>05/12/2023</td>\n",
       "      <td>12/12/2023</td>\n",
       "      <td>Tin VIP Kim Cương</td>\n",
       "      <td>38393009</td>\n",
       "    </tr>\n",
       "    <tr>\n",
       "      <th>4</th>\n",
       "      <td>Dự án Zenity, Đường Võ Văn Kiệt, Phường Cầu Kh...</td>\n",
       "      <td>Căn hộ chung cư</td>\n",
       "      <td>95 m²</td>\n",
       "      <td>80 triệu/m²</td>\n",
       "      <td>2 phòng</td>\n",
       "      <td>2 phòng</td>\n",
       "      <td>NaN</td>\n",
       "      <td>Đầy đủ.</td>\n",
       "      <td>NaN</td>\n",
       "      <td>Sổ đỏ/ Sổ hồng.</td>\n",
       "      <td>07/12/2023</td>\n",
       "      <td>14/12/2023</td>\n",
       "      <td>Tin VIP Kim Cương</td>\n",
       "      <td>38734339</td>\n",
       "    </tr>\n",
       "    <tr>\n",
       "      <th>...</th>\n",
       "      <td>...</td>\n",
       "      <td>...</td>\n",
       "      <td>...</td>\n",
       "      <td>...</td>\n",
       "      <td>...</td>\n",
       "      <td>...</td>\n",
       "      <td>...</td>\n",
       "      <td>...</td>\n",
       "      <td>...</td>\n",
       "      <td>...</td>\n",
       "      <td>...</td>\n",
       "      <td>...</td>\n",
       "      <td>...</td>\n",
       "      <td>...</td>\n",
       "    </tr>\n",
       "    <tr>\n",
       "      <th>55309</th>\n",
       "      <td>Phường 8, Gò Vấp, Hồ Chí Minh</td>\n",
       "      <td>Nhà mặt phố</td>\n",
       "      <td>66 m²</td>\n",
       "      <td>6,7 tỷ</td>\n",
       "      <td>4 phòng</td>\n",
       "      <td>6 phòng</td>\n",
       "      <td>3 tầng</td>\n",
       "      <td>Đầy đủ cơ bản</td>\n",
       "      <td>NaN</td>\n",
       "      <td>Đã có sổ đất ở đô thị sở hữu lâu dài</td>\n",
       "      <td>08/11/2023</td>\n",
       "      <td>08/12/2023</td>\n",
       "      <td>Tin thường</td>\n",
       "      <td>38500616</td>\n",
       "    </tr>\n",
       "    <tr>\n",
       "      <th>55310</th>\n",
       "      <td>Đường Nguyễn Văn Lượng, Phường 17, Gò Vấp, Hồ ...</td>\n",
       "      <td>Nhà riêng</td>\n",
       "      <td>63 m²</td>\n",
       "      <td>5,7 tỷ</td>\n",
       "      <td>1 phòng</td>\n",
       "      <td>1 phòng</td>\n",
       "      <td>1 tầng</td>\n",
       "      <td>Không nội thất</td>\n",
       "      <td>Nam</td>\n",
       "      <td>Sổ đỏ/ Sổ hồng</td>\n",
       "      <td>08/11/2023</td>\n",
       "      <td>08/12/2023</td>\n",
       "      <td>Tin thường</td>\n",
       "      <td>38499922</td>\n",
       "    </tr>\n",
       "    <tr>\n",
       "      <th>55311</th>\n",
       "      <td>Đường Hòa Hưng, Phường 13, Quận 10, Hồ Chí Minh</td>\n",
       "      <td>Nhà riêng</td>\n",
       "      <td>114,4 m²</td>\n",
       "      <td>Thỏa thuận</td>\n",
       "      <td>4 phòng</td>\n",
       "      <td>2 phòng</td>\n",
       "      <td>2 tầng</td>\n",
       "      <td>Ko</td>\n",
       "      <td>Đông - Nam</td>\n",
       "      <td>Sổ hồng 2007</td>\n",
       "      <td>08/11/2023</td>\n",
       "      <td>08/12/2023</td>\n",
       "      <td>Tin thường</td>\n",
       "      <td>38500275</td>\n",
       "    </tr>\n",
       "    <tr>\n",
       "      <th>55312</th>\n",
       "      <td>Dự án Vinhomes Grand Park, Phường Long Thạnh M...</td>\n",
       "      <td>Căn hộ chung cư</td>\n",
       "      <td>47 m²</td>\n",
       "      <td>1,9 tỷ</td>\n",
       "      <td>2 phòng</td>\n",
       "      <td>NaN</td>\n",
       "      <td>NaN</td>\n",
       "      <td>NaN</td>\n",
       "      <td>NaN</td>\n",
       "      <td>Sổ đỏ/ Sổ hồng</td>\n",
       "      <td>02/05/2025</td>\n",
       "      <td>09/05/2025</td>\n",
       "      <td>Tin VIP Kim Cương</td>\n",
       "      <td>42438234</td>\n",
       "    </tr>\n",
       "    <tr>\n",
       "      <th>55313</th>\n",
       "      <td>Dự án The Beverly Solari  - Vinhomes Grand Par...</td>\n",
       "      <td>Căn hộ chung cư</td>\n",
       "      <td>90 m²</td>\n",
       "      <td>Thỏa thuận</td>\n",
       "      <td>3 phòng</td>\n",
       "      <td>NaN</td>\n",
       "      <td>NaN</td>\n",
       "      <td>NaN</td>\n",
       "      <td>NaN</td>\n",
       "      <td>NaN</td>\n",
       "      <td>24/04/2025</td>\n",
       "      <td>09/05/2025</td>\n",
       "      <td>Tin VIP Kim Cương</td>\n",
       "      <td>42818062</td>\n",
       "    </tr>\n",
       "  </tbody>\n",
       "</table>\n",
       "<p>55314 rows × 14 columns</p>\n",
       "</div>"
      ],
      "text/plain": [
       "                                                 Address             Type  \\\n",
       "0      Dự án Zenity, Đường Võ Văn Kiệt, Phường Cầu Kh...  Căn hộ chung cư   \n",
       "1      Dự án Zenity, Đường Võ Văn Kiệt, Phường Cầu Kh...  Căn hộ chung cư   \n",
       "2      Dự án Zenity, Đường Võ Văn Kiệt, Phường Cầu Kh...  Căn hộ chung cư   \n",
       "3      Dự án Lumiere Riverside, Đường Xa Lộ Hà Nội, P...  Căn hộ chung cư   \n",
       "4      Dự án Zenity, Đường Võ Văn Kiệt, Phường Cầu Kh...  Căn hộ chung cư   \n",
       "...                                                  ...              ...   \n",
       "55309                      Phường 8, Gò Vấp, Hồ Chí Minh      Nhà mặt phố   \n",
       "55310  Đường Nguyễn Văn Lượng, Phường 17, Gò Vấp, Hồ ...        Nhà riêng   \n",
       "55311    Đường Hòa Hưng, Phường 13, Quận 10, Hồ Chí Minh        Nhà riêng   \n",
       "55312  Dự án Vinhomes Grand Park, Phường Long Thạnh M...  Căn hộ chung cư   \n",
       "55313  Dự án The Beverly Solari  - Vinhomes Grand Par...  Căn hộ chung cư   \n",
       "\n",
       "            Area        Price  Bedroom   Toilet   Floor       Furniture  \\\n",
       "0      161,08 m²     17,98 tỷ  3 phòng  3 phòng     NaN          Đầy đủ   \n",
       "1         116 m²       9,8 tỷ  3 phòng  2 phòng     NaN          Đầy đủ   \n",
       "2          77 m²         6 tỷ  2 phòng  2 phòng     NaN         Đầy đủ.   \n",
       "3          76 m²       6,2 tỷ  2 phòng  2 phòng     NaN          Đầy đủ   \n",
       "4          95 m²  80 triệu/m²  2 phòng  2 phòng     NaN         Đầy đủ.   \n",
       "...          ...          ...      ...      ...     ...             ...   \n",
       "55309      66 m²       6,7 tỷ  4 phòng  6 phòng  3 tầng   Đầy đủ cơ bản   \n",
       "55310      63 m²       5,7 tỷ  1 phòng  1 phòng  1 tầng  Không nội thất   \n",
       "55311   114,4 m²   Thỏa thuận  4 phòng  2 phòng  2 tầng              Ko   \n",
       "55312      47 m²       1,9 tỷ  2 phòng      NaN     NaN             NaN   \n",
       "55313      90 m²   Thỏa thuận  3 phòng      NaN     NaN             NaN   \n",
       "\n",
       "        Direction                                 Legal Posting date  \\\n",
       "0      Đông - Bắc                        Sổ đỏ/ Sổ hồng   06/12/2023   \n",
       "1      Đông - Bắc                        Sổ đỏ/ Sổ hồng   03/12/2023   \n",
       "2      Đông - Nam                        Sổ đỏ/ Sổ hồng   01/12/2023   \n",
       "3             NaN                      Hợp đồng mua bán   05/12/2023   \n",
       "4             NaN                       Sổ đỏ/ Sổ hồng.   07/12/2023   \n",
       "...           ...                                   ...          ...   \n",
       "55309         NaN  Đã có sổ đất ở đô thị sở hữu lâu dài   08/11/2023   \n",
       "55310         Nam                        Sổ đỏ/ Sổ hồng   08/11/2023   \n",
       "55311  Đông - Nam                          Sổ hồng 2007   08/11/2023   \n",
       "55312         NaN                        Sổ đỏ/ Sổ hồng   02/05/2025   \n",
       "55313         NaN                                   NaN   24/04/2025   \n",
       "\n",
       "      Expiry date            Ad type   Ad code  \n",
       "0      13/12/2023  Tin VIP Kim Cương  38720367  \n",
       "1      10/12/2023         Tin thường  38693652  \n",
       "2      11/12/2023  Tin VIP Kim Cương  38481731  \n",
       "3      12/12/2023  Tin VIP Kim Cương  38393009  \n",
       "4      14/12/2023  Tin VIP Kim Cương  38734339  \n",
       "...           ...                ...       ...  \n",
       "55309  08/12/2023         Tin thường  38500616  \n",
       "55310  08/12/2023         Tin thường  38499922  \n",
       "55311  08/12/2023         Tin thường  38500275  \n",
       "55312  09/05/2025  Tin VIP Kim Cương  42438234  \n",
       "55313  09/05/2025  Tin VIP Kim Cương  42818062  \n",
       "\n",
       "[55314 rows x 14 columns]"
      ]
     },
     "execution_count": 15,
     "metadata": {},
     "output_type": "execute_result"
    }
   ],
   "source": [
    "real_estate_df = pd.read_csv('../Data/real_estate_for_sale.csv')\n",
    "real_estate_df"
   ]
  },
  {
   "cell_type": "code",
   "execution_count": null,
   "metadata": {},
   "outputs": [],
   "source": [
    "real_estate_df.shape()"
   ]
  },
  {
   "cell_type": "code",
   "execution_count": null,
   "metadata": {},
   "outputs": [],
   "source": []
  }
 ],
 "metadata": {
  "kernelspec": {
   "display_name": "base",
   "language": "python",
   "name": "python3"
  },
  "language_info": {
   "codemirror_mode": {
    "name": "ipython",
    "version": 3
   },
   "file_extension": ".py",
   "mimetype": "text/x-python",
   "name": "python",
   "nbconvert_exporter": "python",
   "pygments_lexer": "ipython3",
   "version": "3.11.7"
  }
 },
 "nbformat": 4,
 "nbformat_minor": 2
}
